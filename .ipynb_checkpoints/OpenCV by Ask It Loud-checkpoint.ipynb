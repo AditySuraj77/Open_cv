{
 "cells": [
  {
   "cell_type": "code",
   "execution_count": 1,
   "id": "81f77f50",
   "metadata": {},
   "outputs": [],
   "source": [
    "import cv2\n",
    "import numpy as np"
   ]
  },
  {
   "cell_type": "markdown",
   "id": "e10c2ade",
   "metadata": {},
   "source": [
    "# Image Read, Write and Show"
   ]
  },
  {
   "cell_type": "code",
   "execution_count": 18,
   "id": "66733655",
   "metadata": {},
   "outputs": [],
   "source": [
    "user_img = (r'trek.jpg')\n",
    "\n",
    "gray_img = cv2.imread(user_img,0)\n",
    "res_img = cv2.resize(gray_img,(300,300))\n",
    "cv2.imshow('windows',res_img)\n",
    "\n",
    "\n",
    "\n",
    "cv2.imwrite(r'C:\\Users\\user.LAPTOP\\Desktop\\OpenCV Series\\graytrek.png',res_img)\n",
    "cv2.waitKey(0)\n",
    "cv2.destroyAllWindows()\n",
    "    \n",
    "\n"
   ]
  },
  {
   "cell_type": "markdown",
   "id": "e22fc6fb",
   "metadata": {},
   "source": [
    "# Read Video From File Path"
   ]
  },
  {
   "cell_type": "code",
   "execution_count": 29,
   "id": "07196fc4",
   "metadata": {},
   "outputs": [],
   "source": [
    "cap = cv2.VideoCapture('rocket_launch.mp4')\n",
    "\n",
    "while True:\n",
    "    ret,frame = cap.read()\n",
    "    #print(ret)\n",
    "    gray = cv2.cvtColor(frame,cv2.COLOR_BGR2GRAY)\n",
    "    cv2.imshow('Rocket',frame)\n",
    "    cv2.imshow('Rocket',gray)\n",
    "    if cv2.waitKey(25) & 0xFF == ord('x'):\n",
    "        break\n",
    "        \n",
    "cv2.destroyAllWindows()"
   ]
  },
  {
   "cell_type": "markdown",
   "id": "1606be4f",
   "metadata": {},
   "source": [
    "# Read Video From Webcam"
   ]
  },
  {
   "cell_type": "code",
   "execution_count": 33,
   "id": "a6cad2f6",
   "metadata": {},
   "outputs": [],
   "source": [
    "cap = cv2.VideoCapture(0)\n",
    "if cap.isOpened():\n",
    "    while True:\n",
    "        ret,frame = cap.read()\n",
    "        if ret == True:\n",
    "            gray = cv2.cvtColor(frame,cv2.COLOR_BGR2GRAY)\n",
    "            cv2.imshow('Rocket',frame)\n",
    "            #cv2.imshow('Rocket',gray)\n",
    "            if cv2.waitKey(1) & 0xFF == ord('x'):\n",
    "                break\n",
    "cap.release()        \n",
    "cv2.destroyAllWindows()"
   ]
  },
  {
   "cell_type": "markdown",
   "id": "c5ec9d61",
   "metadata": {},
   "source": [
    "# Read and Write OR Save Video"
   ]
  },
  {
   "cell_type": "code",
   "execution_count": 6,
   "id": "8d1dbd68",
   "metadata": {},
   "outputs": [],
   "source": [
    "cap = cv2.VideoCapture(0)\n",
    "fourcc = cv2.VideoWriter_fourcc(*'XVID')\n",
    "\n",
    "video_write = cv2.VideoWriter('Web_record.mp4',fourcc,20.0,(640,480))\n",
    "\n",
    "while True:\n",
    "    ret,frame = cap.read()\n",
    "    #print(ret)\n",
    "    #gray = cv2.cvtColor(frame,cv2.COLOR_BGR2GRAY)\n",
    "    video_write.write(frame)\n",
    "    cv2.imshow('Rocket',frame)\n",
    "    #cv2.imshow('Rocket',gray)\n",
    "    if cv2.waitKey(25) & 0xFF == ord('x'):\n",
    "        break\n",
    "cap.release()   \n",
    "video_write.release()\n",
    "cv2.destroyAllWindows()"
   ]
  },
  {
   "cell_type": "markdown",
   "id": "9272f68b",
   "metadata": {},
   "source": [
    "# Read Video from Online"
   ]
  },
  {
   "cell_type": "code",
   "execution_count": 11,
   "id": "83a8df8d",
   "metadata": {},
   "outputs": [
    {
     "name": "stdout",
     "output_type": "stream",
     "text": [
      "[youtube] Extracting URL: https://www.youtube.com/watch?v=W50sgQV1pl0&ab_channel=7cloudsRock\n",
      "[youtube] W50sgQV1pl0: Downloading webpage\n",
      "[youtube] W50sgQV1pl0: Downloading ios player API JSON\n",
      "[youtube] W50sgQV1pl0: Downloading android player API JSON\n",
      "[youtube] W50sgQV1pl0: Downloading m3u8 information\n"
     ]
    }
   ],
   "source": [
    "from cap_from_youtube import cap_from_youtube\n",
    "\n",
    "yt_url = \"https://www.youtube.com/watch?v=W50sgQV1pl0&ab_channel=7cloudsRock\"\n",
    "cap = cap_from_youtube(yt_url,'480p')\n",
    "#cap = cv2.VideoCapture(0,cv2.CAP_DSHOW)\n",
    "\n",
    "fourcc = cv2.VideoWriter_fourcc(*'XVID')\n",
    "\n",
    "video_write = cv2.VideoWriter('Web_record.mp4',fourcc,20.0,(640,480))\n",
    "\n",
    "while True:\n",
    "    ret,frame = cap.read()\n",
    "    #print(ret)\n",
    "    #gray = cv2.cvtColor(frame,cv2.COLOR_BGR2GRAY)\n",
    "    #video_write.write(frame)\n",
    "    cv2.imshow('Rocket',frame)\n",
    "    #cv2.imshow('Rocket',gray)\n",
    "    if cv2.waitKey(25) & 0xFF == ord('x'):\n",
    "        break\n",
    "cap.release()   \n",
    "#video_write.release()\n",
    "cv2.destroyAllWindows()"
   ]
  },
  {
   "cell_type": "markdown",
   "id": "3781be05",
   "metadata": {},
   "source": [
    "# Screen Recording Project : 1"
   ]
  },
  {
   "cell_type": "code",
   "execution_count": 7,
   "id": "bd6faf72",
   "metadata": {},
   "outputs": [
    {
     "name": "stdout",
     "output_type": "stream",
     "text": [
      "Please enter file and path name : C:\\Users\\user.LAPTOP\\Desktop\\OpenCV Series/one.mp4\n"
     ]
    }
   ],
   "source": [
    "import pyautogui as p\n",
    "\n",
    "p_size = p.size()\n",
    "\n",
    "fn = input(\"Please enter file and path name : \")\n",
    "fbs = 10.0\n",
    "\n",
    "\n",
    "fourcc = cv2.VideoWriter_fourcc(*'XVID')\n",
    "video_save = cv2.VideoWriter(fn,fourcc,fbs,p_size)\n",
    "\n",
    "cv2.namedWindow('Live',cv2.WINDOW_NORMAL)\n",
    "cv2.resizeWindow('Live',(600,400))\n",
    "\n",
    "while True:\n",
    "    img = p.screenshot()\n",
    "    img_arr = np.array(img)\n",
    "    img_rgb_color = cv2.cvtColor(img_arr,cv2.COLOR_BGR2RGB)\n",
    "    video_save.write(img_rgb_color)\n",
    "    cv2.imshow('Live',img_rgb_color)\n",
    "    \n",
    "    if cv2.waitKey(1) == ord('q'):\n",
    "        break\n",
    "        \n",
    "video_save.release()\n",
    "cv2.destroyAllWindows()"
   ]
  },
  {
   "cell_type": "markdown",
   "id": "c9378081",
   "metadata": {},
   "source": [
    "# Line "
   ]
  },
  {
   "cell_type": "code",
   "execution_count": 87,
   "id": "53d0aa4a",
   "metadata": {},
   "outputs": [],
   "source": [
    "f_point = (300,100)\n",
    "s_point = (200,450)\n",
    "color = (103, 119, 145)\n",
    "thickness = 10\n",
    "path = \"temple.jpg\"\n",
    "\n",
    "img = cv2.imread(path)\n",
    "img = cv2.resize(img,(500,500))\n",
    "\n",
    "line = cv2.line(img, f_point,s_point,color,thickness)\n",
    "cv2.imshow('Line',img)\n",
    "cv2.imshow('Line',line)\n",
    "\n",
    "cv2.waitKey(0)\n",
    "cv2.destroyAllWindows()"
   ]
  },
  {
   "cell_type": "markdown",
   "id": "f3a0cd09",
   "metadata": {},
   "source": [
    "# Arrowed Line"
   ]
  },
  {
   "cell_type": "code",
   "execution_count": 50,
   "id": "66ef3eee",
   "metadata": {},
   "outputs": [],
   "source": [
    "x1_y_1point = (100,50)\n",
    "x2_y2_point = (200,400)\n",
    "color = (111, 165, 252)\n",
    "color = color[::-1]\n",
    "thickness = 10\n",
    "path = \"temple.jpg\"\n",
    "\n",
    "img = cv2.imread(path)\n",
    "img = cv2.resize(img,(500,500))\n",
    "\n",
    "arrowedline = cv2.arrowedLine(img, f_point,s_point,color,thickness)\n",
    "cv2.imshow('Line',img)\n",
    "cv2.imshow('Line',arrowedline)\n",
    "\n",
    "cv2.waitKey(0)\n",
    "cv2.destroyAllWindows()"
   ]
  },
  {
   "cell_type": "markdown",
   "id": "66e325cf",
   "metadata": {},
   "source": [
    "# Rectangle"
   ]
  },
  {
   "cell_type": "code",
   "execution_count": 63,
   "id": "d369fefa",
   "metadata": {},
   "outputs": [],
   "source": [
    "x1_y_1point = (15,160)\n",
    "x2_y2_point = (250,300)\n",
    "color = (0, 250, 242)\n",
    "color = color[::-1]\n",
    "thickness = 3\n",
    "path = \"temple.jpg\"\n",
    "\n",
    "img = cv2.imread(path)\n",
    "img = cv2.resize(img,(500,500))\n",
    "rect = cv2.rectangle(img,x1_y_1point,x2_y2_point,color,thickness)\n",
    "#cv2.imshow('Line',img)\n",
    "cv2.imshow('Rectangle',rect)\n",
    "\n",
    "cv2.waitKey(0)\n",
    "cv2.destroyAllWindows()"
   ]
  },
  {
   "cell_type": "markdown",
   "id": "8232d3ef",
   "metadata": {},
   "source": [
    "# Circle"
   ]
  },
  {
   "cell_type": "code",
   "execution_count": 73,
   "id": "29285610",
   "metadata": {},
   "outputs": [],
   "source": [
    "points = (200,200)\n",
    "radius = 100\n",
    "color = (221, 250, 0)\n",
    "color = color[::-1]\n",
    "thickness = 3\n",
    "path = \"temple.jpg\"\n",
    "\n",
    "img = cv2.imread(path)\n",
    "img = cv2.resize(img,(500,500))\n",
    "\n",
    "circle = cv2.circle(img,points,radius,color,thickness)\n",
    "cv2.imshow('Rectangle',circle)\n",
    "\n",
    "cv2.waitKey(0)\n",
    "cv2.destroyAllWindows()"
   ]
  },
  {
   "cell_type": "markdown",
   "id": "919e89db",
   "metadata": {},
   "source": [
    "# Text"
   ]
  },
  {
   "cell_type": "code",
   "execution_count": 76,
   "id": "a5207568",
   "metadata": {},
   "outputs": [],
   "source": [
    "Text = 'Temple'\n",
    "points = (20,200)\n",
    "font = cv2.FONT_HERSHEY_SCRIPT_SIMPLEX\n",
    "font_size = 5\n",
    "color = (0, 255, 128)\n",
    "color = color[::-1]\n",
    "thickness = 5\n",
    "for_mat = cv2.LINE_AA\n",
    "\n",
    "path = \"temple.jpg\"\n",
    "\n",
    "img = cv2.imread(path)\n",
    "img = cv2.resize(img,(500,500))\n",
    "\n",
    "text = cv2.putText(img,Text,points,font,font_size,color,thickness,for_mat)\n",
    "cv2.imshow('Rectangle',text)\n",
    "\n",
    "cv2.waitKey(0)\n",
    "cv2.destroyAllWindows()"
   ]
  },
  {
   "cell_type": "markdown",
   "id": "ac580f21",
   "metadata": {},
   "source": [
    "# Add shapes and text on Video"
   ]
  },
  {
   "cell_type": "code",
   "execution_count": null,
   "id": "dac95445",
   "metadata": {},
   "outputs": [],
   "source": [
    "import datetime\n",
    "cap = cv2.VideoCapture('rocket_launch.mp4')\n",
    "\n",
    "while(cap.isOpened()):\n",
    "    ret, frame = cap.read()\n",
    "    \n",
    "    if ret ==  True:\n",
    "        text = 'Height : ' + str(cap.get(4)) + ' Width : ' + str(cap.get(3))\n",
    "        frame = cv2.putText(frame,text,(20,40), cv2.FONT_HERSHEY_PLAIN,2,(194,237,2),2,cv2.LINE_AA)\n",
    "        datetime_data = 'Date Time : ' + str(datetime.datetime.now())\n",
    "        frame = cv2.putText(frame,datetime_data,(0,100), cv2.FONT_HERSHEY_PLAIN,2,(2,210,237),2,cv2.LINE_AA)\n",
    "        frame = cv2.circle(frame,(100,200), 50,(255,123,0),5)\n",
    "        cv2.imshow('Video',frame)\n",
    "        \n",
    "        if cv2.waitKey(25) & 0xFF == ord('x'):\n",
    "            break\n",
    "        \n",
    "cap.release()\n",
    "cv2.destroyAllWindows()"
   ]
  },
  {
   "cell_type": "code",
   "execution_count": 3,
   "id": "99a30b97",
   "metadata": {},
   "outputs": [
    {
     "name": "stdout",
     "output_type": "stream",
     "text": [
      "Shape of IMG =  (512, 512, 3)\n"
     ]
    },
    {
     "data": {
      "text/plain": [
       "27"
      ]
     },
     "execution_count": 3,
     "metadata": {},
     "output_type": "execute_result"
    }
   ],
   "source": [
    "# Blank Images\n",
    "img = np.zeros((512,512, 3), np.uint8) # This code for create blank image\n",
    "print('Shape of IMG = ', img.shape)\n",
    "#print(img)\n",
    "img[:] =0,0,0\n",
    "# This code for Adjusting color in RGB Format\n",
    "\n",
    "cv2.imshow('Blank_img', img)\n",
    "cv2.waitKey(0)"
   ]
  },
  {
   "cell_type": "markdown",
   "id": "cf0bad5e",
   "metadata": {},
   "source": [
    "# Mouse Event Bindings"
   ]
  },
  {
   "cell_type": "code",
   "execution_count": 8,
   "id": "4c74b529",
   "metadata": {},
   "outputs": [
    {
     "name": "stdout",
     "output_type": "stream",
     "text": [
      "Shape of IMG =  (512, 512, 3)\n"
     ]
    }
   ],
   "source": [
    "# Blank Images\n",
    "img = np.zeros((512,512, 3), np.uint8) # This code for create blank image\n",
    "print('Shape of IMG = ', img.shape)\n",
    "#print(img)\n",
    "img[:] =0,0,0\n",
    "# This code for Adjusting color in RGB Format\n",
    "\n",
    "\n",
    "def draw(event,x,y,flag,param):\n",
    "    if event == cv2.EVENT_LBUTTONDBLCLK:\n",
    "        cv2.circle(img,(x,y),80,(255,55,43),3)\n",
    "\n",
    "cv2.namedWindow(winname='res')\n",
    "\n",
    "cv2.setMouseCallback('res',draw)\n",
    "\n",
    "while True:\n",
    "    cv2.imshow('res',img)\n",
    "    if cv2.waitKey(1) & 0xFF == 27:\n",
    "        break\n",
    "        \n",
    "        \n",
    "cv2.destroyAllWindows()"
   ]
  },
  {
   "cell_type": "markdown",
   "id": "bc4a0dd9",
   "metadata": {},
   "source": [
    "# Project On Mouse Binding"
   ]
  },
  {
   "cell_type": "code",
   "execution_count": 3,
   "id": "1c8250d5",
   "metadata": {},
   "outputs": [],
   "source": [
    "# Blank Images\n",
    "#img = np.zeros((512,512, 3), np.uint8) # This code for create blank image\n",
    "#print('Shape of IMG = ', img.shape)\n",
    "#print(img)\n",
    "#img[:] =0,0,0\n",
    "# This code for Adjusting color in RGB Format\n",
    "img = cv2.imread('Kedarnath_Temple.jpg')\n",
    "def mouse_event(event,x,y,flag,param):\n",
    "    if event == cv2.EVENT_LBUTTONDOWN:\n",
    "        cord = \". \" + str(x) + ' , ' + str(y)\n",
    "        cv2.putText(img,cord,(x,y),cv2.FONT_HERSHEY_PLAIN,2,(132,0,255),2)\n",
    "    if event == cv2.EVENT_RBUTTONDOWN:\n",
    "        b = img[x,y,0]\n",
    "        g = img[x,y,1]\n",
    "        r = img[x,y,2]\n",
    "        color_bgr = \". \" + str(b) + ' , ' + str(g) + ' , ' + str(r)\n",
    "        cv2.putText(img,color_bgr,(x,y),cv2.FONT_HERSHEY_PLAIN,2,(229,255,0),2)\n",
    "    \n",
    "cv2.namedWindow(winname='win')\n",
    "cv2.setMouseCallback('win',mouse_event)\n",
    "\n",
    "while True:\n",
    "    cv2.imshow('win',img)\n",
    "    \n",
    "    if cv2.waitKey(1) & 0xFF == 27:\n",
    "        break\n",
    "cv2.destroyAllWindows()"
   ]
  },
  {
   "cell_type": "markdown",
   "id": "dd512129",
   "metadata": {},
   "source": [
    "# ColorPicker Project"
   ]
  },
  {
   "cell_type": "code",
   "execution_count": 5,
   "id": "06ab0d76",
   "metadata": {},
   "outputs": [
    {
     "ename": "error",
     "evalue": "OpenCV(4.7.0) D:\\a\\opencv-python\\opencv-python\\opencv\\modules\\highgui\\src\\window_w32.cpp:2576: error: (-27:Null pointer) NULL window: 'ColorPicker' in function 'cvGetTrackbarPos'\n",
     "output_type": "error",
     "traceback": [
      "\u001b[1;31m---------------------------------------------------------------------------\u001b[0m",
      "\u001b[1;31merror\u001b[0m                                     Traceback (most recent call last)",
      "Cell \u001b[1;32mIn[5], line 28\u001b[0m\n\u001b[0;32m     24\u001b[0m \u001b[38;5;28;01mif\u001b[39;00m k \u001b[38;5;241m==\u001b[39m \u001b[38;5;241m27\u001b[39m:\n\u001b[0;32m     25\u001b[0m     \u001b[38;5;28;01mbreak\u001b[39;00m\n\u001b[1;32m---> 28\u001b[0m s \u001b[38;5;241m=\u001b[39m \u001b[43mcv2\u001b[49m\u001b[38;5;241;43m.\u001b[39;49m\u001b[43mgetTrackbarPos\u001b[49m\u001b[43m(\u001b[49m\u001b[43ms1\u001b[49m\u001b[43m,\u001b[49m\u001b[38;5;124;43m'\u001b[39;49m\u001b[38;5;124;43mColorPicker\u001b[39;49m\u001b[38;5;124;43m'\u001b[39;49m\u001b[43m)\u001b[49m\n\u001b[0;32m     29\u001b[0m r \u001b[38;5;241m=\u001b[39m cv2\u001b[38;5;241m.\u001b[39mgetTrackbarPos(\u001b[38;5;124m'\u001b[39m\u001b[38;5;124mR\u001b[39m\u001b[38;5;124m'\u001b[39m,\u001b[38;5;124m'\u001b[39m\u001b[38;5;124mColorPicker\u001b[39m\u001b[38;5;124m'\u001b[39m)\n\u001b[0;32m     30\u001b[0m g \u001b[38;5;241m=\u001b[39m cv2\u001b[38;5;241m.\u001b[39mgetTrackbarPos(\u001b[38;5;124m'\u001b[39m\u001b[38;5;124mG\u001b[39m\u001b[38;5;124m'\u001b[39m,\u001b[38;5;124m'\u001b[39m\u001b[38;5;124mColorPicker\u001b[39m\u001b[38;5;124m'\u001b[39m)\n",
      "\u001b[1;31merror\u001b[0m: OpenCV(4.7.0) D:\\a\\opencv-python\\opencv-python\\opencv\\modules\\highgui\\src\\window_w32.cpp:2576: error: (-27:Null pointer) NULL window: 'ColorPicker' in function 'cvGetTrackbarPos'\n"
     ]
    }
   ],
   "source": [
    "img = np.zeros((512,512, 3), np.uint8)\n",
    "\n",
    "img[:] = 0\n",
    "\n",
    "\n",
    "def cross(x):\n",
    "    pass\n",
    "\n",
    "cv2.namedWindow('ColorPicker') # Window Name\n",
    "# ON OFF Switch\n",
    "s1= '0:OFF\\n1:ON'\n",
    "cv2.createTrackbar(s1,'ColorPicker',0,1,cross)\n",
    "\n",
    "# R,G,B Switich\n",
    "\n",
    "cv2.createTrackbar('R','ColorPicker',0,255,cross)\n",
    "cv2.createTrackbar('G','ColorPicker',0,255,cross)\n",
    "cv2.createTrackbar('B','ColorPicker',0,255,cross)\n",
    "\n",
    "while True:\n",
    "    cv2.imshow('ColorPicker',img)\n",
    "    k = cv2.waitKey(1) & 0xFF\n",
    "    \n",
    "    if k == 27:\n",
    "        break\n",
    "        \n",
    "        \n",
    "    s = cv2.getTrackbarPos(s1,'ColorPicker')\n",
    "    r = cv2.getTrackbarPos('R','ColorPicker')\n",
    "    g = cv2.getTrackbarPos('G','ColorPicker')\n",
    "    b = cv2.getTrackbarPos('B','ColorPicker')\n",
    "    \n",
    "    if s == 0:\n",
    "        img[:] = 0\n",
    "        \n",
    "    else:\n",
    "        img[:] = r,g,b\n",
    "        \n",
    "        \n",
    "\n",
    "cv2.destroyAllWindows()\n",
    "\n"
   ]
  },
  {
   "cell_type": "markdown",
   "id": "a5a2928f",
   "metadata": {},
   "source": [
    "# Image Opeartions"
   ]
  },
  {
   "cell_type": "code",
   "execution_count": 32,
   "id": "89d9c0f3",
   "metadata": {},
   "outputs": [
    {
     "name": "stdout",
     "output_type": "stream",
     "text": [
      "Shape =  (300, 300, 3)\n",
      "No. of Pix =  270000\n",
      "DataType =  uint8\n",
      "Type of IMG =  <class 'numpy.ndarray'>\n",
      "[[178 174 175 ... 147 157 144]\n",
      " [175 176 176 ... 155 103 137]\n",
      " [177 175 176 ... 129 135 250]\n",
      " ...\n",
      " [ 45  50  36 ...  96  91  99]\n",
      " [ 72  76  64 ...  76  62  67]\n",
      " [ 74  70  77 ...  68  63  68]] [[183 180 181 ... 177 191 174]\n",
      " [181 182 181 ... 180 143 165]\n",
      " [183 181 182 ... 161 149 253]\n",
      " ...\n",
      " [ 39  43  30 ... 103  98 107]\n",
      " [ 57  61  49 ...  78  68  69]\n",
      " [ 66  59  64 ...  70  62  67]] [[190 187 188 ... 158 174 153]\n",
      " [188 189 189 ... 166 106 141]\n",
      " [190 188 189 ... 136 110 240]\n",
      " ...\n",
      " [ 51  56  41 ... 112 107 114]\n",
      " [ 71  75  62 ...  89  75  77]\n",
      " [ 77  72  80 ...  81  74  77]]\n"
     ]
    }
   ],
   "source": [
    "#img = cv2.imread('splash.jfif')\n",
    "img = cv2.imread('architect.jpg')\n",
    "img = cv2.resize(img,(300,300))\n",
    "print('Shape = ', img.shape) # Shape\n",
    "print('No. of Pix = ',img.size) # Pixal Size\n",
    "print('DataType = ',img.dtype)\n",
    "print('Type of IMG = ',type(img))\n",
    "\n",
    "r,g,b = cv2.split(img)\n",
    "print(r,g,b)\n",
    "\n",
    "cv2.imshow('Original',img)\n",
    "cv2.imshow('r',r)\n",
    "cv2.imshow('g',g)\n",
    "cv2.imshow('b',b)\n",
    "cv2.waitKey(0)\n",
    "cv2.destroyAllWindows()"
   ]
  },
  {
   "cell_type": "markdown",
   "id": "cfa6e3f3",
   "metadata": {},
   "source": [
    "### Merge Image"
   ]
  },
  {
   "cell_type": "code",
   "execution_count": 33,
   "id": "e5a51d85",
   "metadata": {},
   "outputs": [],
   "source": [
    "mr = cv2.merge((r,g,b))\n",
    "mr_gbr = cv2.merge((g,b,r))\n",
    "mr_bgr = cv2.merge((b,g,r))\n",
    "cv2.imshow('MErge',mr)\n",
    "cv2.imshow('BGR',mr_bgr)\n",
    "cv2.imshow('GBR',mr_gbr)\n",
    "cv2.imshow('Original',img)\n",
    "\n",
    "cv2.waitKey(0)\n",
    "cv2.destroyAllWindows()"
   ]
  },
  {
   "cell_type": "markdown",
   "id": "e0684fc5",
   "metadata": {},
   "source": [
    "### Find the color value with the help of Corrdinate Value"
   ]
  },
  {
   "cell_type": "code",
   "execution_count": 28,
   "id": "73c5f1d4",
   "metadata": {},
   "outputs": [
    {
     "name": "stdout",
     "output_type": "stream",
     "text": [
      "Color of Blue Cordinate =  [171 189 212]\n",
      "Color of Green Cordinate =  [ 12  22 107]\n",
      "Color of Red Cordinate =  [43 78 91]\n"
     ]
    }
   ],
   "source": [
    "img = cv2.imread('architect.jpg')\n",
    "img = cv2.resize(img,(500,500))\n",
    "\n",
    "all_chan_valu = img[300,150]\n",
    "#print('Color of your Given Cordinate = ',img)\n",
    "blue_chan = img[224,80]\n",
    "gren_chan = img[340,150]\n",
    "red_chan = img[420,245]\n",
    "print('Color of Blue Cordinate = ',blue_chan)\n",
    "print('Color of Green Cordinate = ',gren_chan)\n",
    "print('Color of Red Cordinate = ',red_chan)\n",
    "\n",
    "\n",
    "cv2.imshow('Original',img)\n",
    "cv2.waitKey(0)\n",
    "cv2.destroyAllWindows()"
   ]
  },
  {
   "cell_type": "markdown",
   "id": "a056d86b",
   "metadata": {},
   "source": [
    "# Region of Intrest (RIO)"
   ]
  },
  {
   "cell_type": "code",
   "execution_count": 2,
   "id": "2e48ba5e",
   "metadata": {},
   "outputs": [
    {
     "name": "stdout",
     "output_type": "stream",
     "text": [
      "(900, 1200, 3)\n"
     ]
    },
    {
     "data": {
      "text/plain": [
       "-1"
      ]
     },
     "execution_count": 2,
     "metadata": {},
     "output_type": "execute_result"
    }
   ],
   "source": [
    "img = cv2.imread('trek.jpg')\n",
    "img = cv2.resize(img,(1200,900))\n",
    "print(img.shape)\n",
    "# x1,y1 = 718,368 x2,y2 = 826,461\n",
    "roi = img[368:461, 718:826] # y1-y2 = 93,  x1-x2 = 108\n",
    "\n",
    "img[368:461,826:934] = roi\n",
    "img[368:461,934:1042] = roi\n",
    "img[368:461,1042:1150] = roi\n",
    "\n",
    "\n",
    "\n",
    "\n",
    "cv2.imshow('img',img)\n",
    "cv2.waitKey(0)\n"
   ]
  },
  {
   "cell_type": "code",
   "execution_count": 30,
   "id": "dc92a257",
   "metadata": {},
   "outputs": [
    {
     "data": {
      "text/plain": [
       "-1"
      ]
     },
     "execution_count": 30,
     "metadata": {},
     "output_type": "execute_result"
    }
   ],
   "source": [
    "img = cv2.imread('shiv.jpg')\n",
    "img = cv2.resize(img,(1200,700))\n",
    "\n",
    "#x1,y1 = 513,6\n",
    "#x2,y2 = 821,354\n",
    "\n",
    "# y1-y2 = 6-354 = 348, x1-x2 = 513-821 = 308\n",
    "rio = img[6:354, 513:821]\n",
    "\n",
    "img[6:354,821:1129] = rio\n",
    "img[6:354,205:513] = rio\n",
    "cv2.imshow('Shiv',img)\n",
    "cv2.waitKey(0)"
   ]
  },
  {
   "cell_type": "markdown",
   "id": "a589b622",
   "metadata": {},
   "source": [
    "# Image Borders"
   ]
  },
  {
   "cell_type": "code",
   "execution_count": 48,
   "id": "18fcfba3",
   "metadata": {},
   "outputs": [
    {
     "data": {
      "text/plain": [
       "-1"
      ]
     },
     "execution_count": 48,
     "metadata": {},
     "output_type": "execute_result"
    }
   ],
   "source": [
    "top, bottom, right, left = 20,20,20,20\n",
    "img = cv2.imread('architect.jpg')\n",
    "img = cv2.resize(img,(700,700))\n",
    "bord = cv2.copyMakeBorder(img,top,bottom,right,left,cv2.BORDER_CONSTANT,value=[255,255,255])\n",
    "\n",
    "cv2.imshow('Arcit',bord)\n",
    "cv2.waitKey(0)"
   ]
  },
  {
   "cell_type": "markdown",
   "id": "31684d2d",
   "metadata": {},
   "source": [
    "# Image Blending "
   ]
  },
  {
   "cell_type": "code",
   "execution_count": 72,
   "id": "05fbccc1",
   "metadata": {},
   "outputs": [
    {
     "name": "stdout",
     "output_type": "stream",
     "text": [
      "(510, 750, 3)\n",
      "(510, 750, 3)\n"
     ]
    }
   ],
   "source": [
    "img1 = cv2.imread('shiv.jpg')\n",
    "img2 = cv2.imread('Kedarnath_Temple.jpg')\n",
    "img1 = cv2.resize(img1,(750,510))\n",
    "print(img1.shape)\n",
    "print(img2.shape)\n",
    "\n",
    "#blend_1 = cv2.add(img2,img1) # THis is first method to blend an image\n",
    "blend_2 = cv2.addWeighted(img2,0.8, img1,0.2,0)\n",
    "\n",
    "#cv2.imshow('shiv',img1)\n",
    "#cv2.imshow('temple',img2)\n",
    "cv2.imshow('Blend',blend_2)\n",
    "cv2.waitKey(0)\n",
    "cv2.destroyAllWindows()"
   ]
  },
  {
   "cell_type": "markdown",
   "id": "f8622efd",
   "metadata": {},
   "source": [
    "# Object detection using HSV color space"
   ]
  },
  {
   "cell_type": "code",
   "execution_count": 14,
   "id": "16de11ed",
   "metadata": {},
   "outputs": [],
   "source": [
    "img = cv2.imread('colorball.jpg')\n",
    "\n",
    "\n",
    "while True:\n",
    "    hsv = cv2.cvtColor(img,cv2.COLOR_BGR2HSV)\n",
    "    u_v = np.array([52,247,234])\n",
    "    l_v = np.array([44,222,210])\n",
    "  \n",
    "    mask = cv2.inRange(hsv,l_v,u_v)\n",
    "    \n",
    "    res = cv2.bitwise_and(img, img, mask=mask)\n",
    "    cv2.imshow('Original',img)\n",
    "    cv2.imshow('Mask',mask)\n",
    "    cv2.imshow('Result',res)\n",
    "\n",
    "    \n",
    "    if cv2.waitKey(1) == 27:\n",
    "        break\n",
    "cv2.destroyAllWindows()\n"
   ]
  },
  {
   "cell_type": "code",
   "execution_count": null,
   "id": "c7d07fa9",
   "metadata": {},
   "outputs": [],
   "source": [
    "frame = cv2.imread('colorball.jpg')\n",
    "\n",
    "frame =  cv2.resize(img,(300,300))\n",
    "def cross(x):\n",
    "    pass\n",
    "\n",
    "cv2.namedWindow('Color')\n",
    "\n",
    "cv2.createTrackbar('Lower_H','Color',0,255,cross)\n",
    "cv2.createTrackbar('Lower_S','Color',0,255,cross)\n",
    "cv2.createTrackbar('Lower_V','Color',0,255,cross)\n",
    "\n",
    "\n",
    "cv2.createTrackbar('Upper_H','Color',255,255,cross)\n",
    "cv2.createTrackbar('Upper_S','Color',255,255,cross)\n",
    "cv2.createTrackbar('Upper_V','Color',255,255,cross)\n",
    "\n",
    "while True:\n",
    "    hsv = cv2.cvtColor(frame,cv2.COLOR_BGR2HSV)\n",
    "    \n",
    "    l_h = cv2.getTrackbarPos('Lower_H','Color')\n",
    "    l_s = cv2.getTrackbarPos('Lower_S','Color')\n",
    "    l_v = cv2.getTrackbarPos('Lower_V','Color')\n",
    "    \n",
    "    \n",
    "    u_h = cv2.getTrackbarPos('Upper_H','Color')\n",
    "    u_s = cv2.getTrackbarPos('Upper_S','Color')\n",
    "    u_v = cv2.getTrackbarPos('Upper_V','Color')\n",
    "    \n",
    "    lower_bound = np.array([l_h,l_s,l_v])\n",
    "    upper_bound = np.array([u_h,u_s,u_v])\n",
    "    \n",
    "    mask = cv2.inRange(hsv,lower_bound,upper_bound)\n",
    "    \n",
    "    res = cv2.bitwise_and(frame,frame,mask=mask)\n",
    "    \n",
    "    cv2.imshow('Orginalball',frame)\n",
    "    cv2.imshow('Mask',mask)\n",
    "    cv2.imshow('Result',res)\n",
    "    k = cv2.waitKey(0)\n",
    "    if k == 27:\n",
    "        break\n",
    "        \n",
    "cv2.destroyAllWindows()"
   ]
  },
  {
   "cell_type": "code",
   "execution_count": null,
   "id": "4d0892c2",
   "metadata": {},
   "outputs": [],
   "source": []
  }
 ],
 "metadata": {
  "kernelspec": {
   "display_name": "Python 3 (ipykernel)",
   "language": "python",
   "name": "python3"
  },
  "language_info": {
   "codemirror_mode": {
    "name": "ipython",
    "version": 3
   },
   "file_extension": ".py",
   "mimetype": "text/x-python",
   "name": "python",
   "nbconvert_exporter": "python",
   "pygments_lexer": "ipython3",
   "version": "3.11.2"
  }
 },
 "nbformat": 4,
 "nbformat_minor": 5
}
