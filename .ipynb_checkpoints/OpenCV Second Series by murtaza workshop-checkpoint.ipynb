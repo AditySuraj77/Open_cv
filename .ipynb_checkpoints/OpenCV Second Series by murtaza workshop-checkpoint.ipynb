{
 "cells": [
  {
   "cell_type": "markdown",
   "id": "9ce62769",
   "metadata": {},
   "source": [
    "# How To Read Image-Video-Webcam"
   ]
  },
  {
   "cell_type": "code",
   "execution_count": 1,
   "id": "f70574e2",
   "metadata": {},
   "outputs": [],
   "source": [
    "import cv2\n",
    "import numpy as np"
   ]
  },
  {
   "cell_type": "code",
   "execution_count": 3,
   "id": "4034f2cc",
   "metadata": {},
   "outputs": [
    {
     "data": {
      "text/plain": [
       "-1"
      ]
     },
     "execution_count": 3,
     "metadata": {},
     "output_type": "execute_result"
    }
   ],
   "source": [
    "img = cv2.imread('temple.jpg')\n",
    "\n",
    "res_img = cv2.resize(img, (500,500))\n",
    "cv2.imshow('temple',res_img)\n",
    "\n",
    "cv2.waitKey(0)"
   ]
  },
  {
   "cell_type": "code",
   "execution_count": 2,
   "id": "fd02fe1a",
   "metadata": {},
   "outputs": [],
   "source": [
    "video = cv2.VideoCapture('temple_videos.mp4')\n",
    "\n",
    "while True:\n",
    "    sucess, frame = video.read()\n",
    "    resix = cv2.resize(frame,(500,500))\n",
    "    cv2.imshow('temple', resix)\n",
    "    \n",
    "    if cv2.waitKey(1) & 0xFF == ord('x'):\n",
    "        break\n",
    "cv2.destroyAllWindows()"
   ]
  },
  {
   "cell_type": "markdown",
   "id": "f35b72c1",
   "metadata": {},
   "source": [
    "# 5 Must Know OpenCV Basic Functions"
   ]
  },
  {
   "cell_type": "markdown",
   "id": "63b3376e",
   "metadata": {},
   "source": [
    "##### 1. RGB to GRAYSCALE"
   ]
  },
  {
   "cell_type": "code",
   "execution_count": 5,
   "id": "5cc8e5f7",
   "metadata": {},
   "outputs": [
    {
     "data": {
      "text/plain": [
       "-1"
      ]
     },
     "execution_count": 5,
     "metadata": {},
     "output_type": "execute_result"
    }
   ],
   "source": [
    "path = 'Kedarnath_Temple.jpg'\n",
    "\n",
    "img_org = cv2.imread(path)\n",
    "\n",
    "gray_img = cv2.cvtColor(img_org, cv2.COLOR_RGB2GRAY)\n",
    "\n",
    "cv2.imshow('temple',img)\n",
    "cv2.imshow('temple',gray_img)\n",
    "\n",
    "cv2.waitKey(0)\n",
    "\n"
   ]
  },
  {
   "cell_type": "markdown",
   "id": "c5af39a2",
   "metadata": {},
   "source": [
    "##### 2.Blur"
   ]
  },
  {
   "cell_type": "code",
   "execution_count": 6,
   "id": "92bb9b16",
   "metadata": {},
   "outputs": [
    {
     "data": {
      "text/plain": [
       "-1"
      ]
     },
     "execution_count": 6,
     "metadata": {},
     "output_type": "execute_result"
    }
   ],
   "source": [
    "blur_imge = cv2.GaussianBlur(gray_img,(5,5),0)\n",
    "cv2.imshow('Blurr_Image', blur_imge)\n",
    "cv2.imshow('temple',gray_img)\n",
    "\n",
    "\n",
    "cv2.waitKey(0)"
   ]
  },
  {
   "cell_type": "markdown",
   "id": "6df1b7e5",
   "metadata": {},
   "source": [
    "##### 3. Edge Dectect"
   ]
  },
  {
   "cell_type": "code",
   "execution_count": 7,
   "id": "7e93cd55",
   "metadata": {},
   "outputs": [
    {
     "data": {
      "text/plain": [
       "120"
      ]
     },
     "execution_count": 7,
     "metadata": {},
     "output_type": "execute_result"
    }
   ],
   "source": [
    "edge_dect = cv2.Canny(img, 300,300)\n",
    "cv2.imshow('edge',edge_dect)\n",
    "cv2.waitKey(0)"
   ]
  },
  {
   "cell_type": "markdown",
   "id": "a8adae24",
   "metadata": {},
   "source": [
    "# Resize the image"
   ]
  },
  {
   "cell_type": "code",
   "execution_count": 8,
   "id": "8f176afa",
   "metadata": {},
   "outputs": [
    {
     "name": "stdout",
     "output_type": "stream",
     "text": [
      "(4107, 3450, 3)\n"
     ]
    },
    {
     "ename": "NameError",
     "evalue": "name 'img_resize' is not defined",
     "output_type": "error",
     "traceback": [
      "\u001b[1;31m---------------------------------------------------------------------------\u001b[0m",
      "\u001b[1;31mNameError\u001b[0m                                 Traceback (most recent call last)",
      "Cell \u001b[1;32mIn[8], line 2\u001b[0m\n\u001b[0;32m      1\u001b[0m \u001b[38;5;28mprint\u001b[39m(img\u001b[38;5;241m.\u001b[39mshape)\n\u001b[1;32m----> 2\u001b[0m \u001b[38;5;28mprint\u001b[39m(\u001b[43mimg_resize\u001b[49m\u001b[38;5;241m.\u001b[39mshape)\n",
      "\u001b[1;31mNameError\u001b[0m: name 'img_resize' is not defined"
     ]
    }
   ],
   "source": [
    "print(img.shape)\n",
    "print(img_resize.shape)"
   ]
  },
  {
   "cell_type": "code",
   "execution_count": 9,
   "id": "18672de4",
   "metadata": {},
   "outputs": [
    {
     "data": {
      "text/plain": [
       "-1"
      ]
     },
     "execution_count": 9,
     "metadata": {},
     "output_type": "execute_result"
    }
   ],
   "source": [
    "width,height = 300,300\n",
    "\n",
    "img_resize = cv2.resize(img,(width,height))\n",
    "\n",
    "cv2.imshow('Resize', img_resize)\n",
    "cv2.imshow('Original', img)\n",
    "\n",
    "cv2.waitKey(0)"
   ]
  },
  {
   "cell_type": "markdown",
   "id": "f1018499",
   "metadata": {},
   "source": [
    "# Crop the image"
   ]
  },
  {
   "cell_type": "code",
   "execution_count": 10,
   "id": "7f620c7c",
   "metadata": {},
   "outputs": [
    {
     "name": "stdout",
     "output_type": "stream",
     "text": [
      "(4107, 3450, 3)\n"
     ]
    }
   ],
   "source": [
    "print(img.shape)"
   ]
  },
  {
   "cell_type": "code",
   "execution_count": 11,
   "id": "c5ca506d",
   "metadata": {},
   "outputs": [
    {
     "data": {
      "text/plain": [
       "-1"
      ]
     },
     "execution_count": 11,
     "metadata": {},
     "output_type": "execute_result"
    }
   ],
   "source": [
    "crop_img = img[20:300, 350:750]\n",
    "\n",
    "cv2.imshow('Original', img)\n",
    "cv2.imshow('crop', crop_img)\n",
    "\n",
    "cv2.waitKey(0)"
   ]
  },
  {
   "cell_type": "markdown",
   "id": "4a88c401",
   "metadata": {},
   "source": [
    "# Creating Blank Images"
   ]
  },
  {
   "cell_type": "code",
   "execution_count": 12,
   "id": "f60f9976",
   "metadata": {},
   "outputs": [
    {
     "name": "stdout",
     "output_type": "stream",
     "text": [
      "Shape of IMG =  (512, 512, 3)\n"
     ]
    },
    {
     "data": {
      "text/plain": [
       "-1"
      ]
     },
     "execution_count": 12,
     "metadata": {},
     "output_type": "execute_result"
    }
   ],
   "source": [
    "\n",
    "img = np.zeros((512,512, 3), np.uint8) # This code for create blank image\n",
    "print('Shape of IMG = ', img.shape)\n",
    "#print(img)\n",
    "img[:] =150,200,150 # This code for Adjusting color in RGB Format\n",
    "\n",
    "cv2.imshow('Blank_img', img)\n",
    "cv2.waitKey(0)"
   ]
  },
  {
   "cell_type": "markdown",
   "id": "7cd4a261",
   "metadata": {},
   "source": [
    "## Draw Line"
   ]
  },
  {
   "cell_type": "code",
   "execution_count": 13,
   "id": "1522b41e",
   "metadata": {},
   "outputs": [
    {
     "data": {
      "text/plain": [
       "-1"
      ]
     },
     "execution_count": 13,
     "metadata": {},
     "output_type": "execute_result"
    }
   ],
   "source": [
    "pt1 = 0,0\n",
    "pt2 = 100,100\n",
    "color = (0,0,0)\n",
    "thickness = 2\n",
    "\n",
    "line = cv2.line(img, pt1,pt2, color, thickness)\n",
    "line = cv2.line(img,pt1, (img.shape[1], img.shape[0]), color, thickness) # This code line was cover digonal area\n",
    "cv2.imshow('Line', line)\n",
    "cv2.imshow('Line', line)\n",
    "\n",
    "cv2.waitKey(0)"
   ]
  },
  {
   "cell_type": "markdown",
   "id": "cdfa0cf7",
   "metadata": {},
   "source": [
    "## Draw Rectangle "
   ]
  },
  {
   "cell_type": "code",
   "execution_count": 14,
   "id": "07d26fe7",
   "metadata": {},
   "outputs": [
    {
     "data": {
      "text/plain": [
       "-1"
      ]
     },
     "execution_count": 14,
     "metadata": {},
     "output_type": "execute_result"
    }
   ],
   "source": [
    "pt1 = 350,100\n",
    "pt2 = 450,200\n",
    "color = (0,0,0)\n",
    "thickness = -1\n",
    "\n",
    "rect = cv2.rectangle(img, pt1,pt2, color, thickness)\n",
    "\n",
    "cv2.imshow('Rectangle', rect)\n",
    "cv2.waitKey(0)"
   ]
  },
  {
   "cell_type": "markdown",
   "id": "0c732cb4",
   "metadata": {},
   "source": [
    "## Draw Circle"
   ]
  },
  {
   "cell_type": "code",
   "execution_count": 15,
   "id": "8b000168",
   "metadata": {},
   "outputs": [
    {
     "data": {
      "text/plain": [
       "-1"
      ]
     },
     "execution_count": 15,
     "metadata": {},
     "output_type": "execute_result"
    }
   ],
   "source": [
    "center_point = 400,400\n",
    "radius = 50\n",
    "color = (0,0,150)\n",
    "thickness = 3\n",
    "\n",
    "circle = cv2.circle(img,center_point, radius, color, thickness)\n",
    "\n",
    "cv2.imshow('Circle', circle)\n",
    "cv2.waitKey(0)\n"
   ]
  },
  {
   "cell_type": "markdown",
   "id": "6263a67d",
   "metadata": {},
   "source": [
    "## Draw Text"
   ]
  },
  {
   "cell_type": "code",
   "execution_count": 16,
   "id": "00d070c2",
   "metadata": {},
   "outputs": [
    {
     "data": {
      "text/plain": [
       "-1"
      ]
     },
     "execution_count": 16,
     "metadata": {},
     "output_type": "execute_result"
    }
   ],
   "source": [
    "Text = 'OpenCV'\n",
    "center_point = (100,100)\n",
    "font = cv2.FONT_HERSHEY_PLAIN\n",
    "font_scale = 2\n",
    "color = (0,0,0)\n",
    "thickness = 3\n",
    "\n",
    "\n",
    "text = cv2.putText(img, Text, center_point, font, font_scale, color, thickness)\n",
    "cv2.imshow('Text', text)\n",
    "cv2.waitKey(0)"
   ]
  },
  {
   "cell_type": "markdown",
   "id": "fb817512",
   "metadata": {},
   "source": [
    "# Join Multiple Images"
   ]
  },
  {
   "cell_type": "code",
   "execution_count": 17,
   "id": "3590290e",
   "metadata": {},
   "outputs": [
    {
     "name": "stdout",
     "output_type": "stream",
     "text": [
      "(300, 300) (300, 300)\n"
     ]
    },
    {
     "data": {
      "text/plain": [
       "-1"
      ]
     },
     "execution_count": 17,
     "metadata": {},
     "output_type": "execute_result"
    }
   ],
   "source": [
    "width,height = 300,300\n",
    "\n",
    "blurr_img_resize = cv2.resize(blur_imge,(width,height))\n",
    "gray_img_resize = cv2.resize(gray_img,(width,height))\n",
    "cv2.imshow('Window1', blurr_img_resize)\n",
    "cv2.imshow('Window2',gray_img_resize)\n",
    "\n",
    "\n",
    "print(blurr_img_resize.shape, gray_img_resize.shape)\n",
    "\n",
    "cv2.waitKey(0)"
   ]
  },
  {
   "cell_type": "code",
   "execution_count": 18,
   "id": "7a7425bd",
   "metadata": {
    "scrolled": true
   },
   "outputs": [
    {
     "data": {
      "text/plain": [
       "-1"
      ]
     },
     "execution_count": 18,
     "metadata": {},
     "output_type": "execute_result"
    }
   ],
   "source": [
    "v_stak = np.vstack([blurr_img_resize,gray_img_resize])\n",
    "\n",
    "cv2.imshow('Stack',v_stak)\n",
    "\n",
    "cv2.waitKey(0)\n"
   ]
  },
  {
   "cell_type": "code",
   "execution_count": 19,
   "id": "af5a22bd",
   "metadata": {},
   "outputs": [
    {
     "data": {
      "text/plain": [
       "-1"
      ]
     },
     "execution_count": 19,
     "metadata": {},
     "output_type": "execute_result"
    }
   ],
   "source": [
    "v_stak = np.hstack([blurr_img_resize,gray_img_resize])\n",
    "\n",
    "cv2.imshow('Stack',v_stak)\n",
    "cv2.waitKey(0)\n"
   ]
  },
  {
   "cell_type": "markdown",
   "id": "257777ca",
   "metadata": {},
   "source": [
    "# Detecting Clicks on Image"
   ]
  },
  {
   "cell_type": "code",
   "execution_count": 21,
   "id": "97ef594b",
   "metadata": {},
   "outputs": [
    {
     "ename": "error",
     "evalue": "OpenCV(4.7.0) D:\\a\\opencv-python\\opencv-python\\opencv\\modules\\highgui\\src\\window_w32.cpp:2558: error: (-27:Null pointer) NULL window: 'img' in function 'cvSetMouseCallback'\n",
     "output_type": "error",
     "traceback": [
      "\u001b[1;31m---------------------------------------------------------------------------\u001b[0m",
      "\u001b[1;31merror\u001b[0m                                     Traceback (most recent call last)",
      "Cell \u001b[1;32mIn[21], line 5\u001b[0m\n\u001b[0;32m      2\u001b[0m     \u001b[38;5;28;01mif\u001b[39;00m events \u001b[38;5;241m==\u001b[39m cv2\u001b[38;5;241m.\u001b[39mEVENT_LBUTTONDOWN:\n\u001b[0;32m      3\u001b[0m         \u001b[38;5;28mprint\u001b[39m(x,y)\n\u001b[1;32m----> 5\u001b[0m \u001b[43mcv2\u001b[49m\u001b[38;5;241;43m.\u001b[39;49m\u001b[43msetMouseCallback\u001b[49m\u001b[43m(\u001b[49m\u001b[38;5;124;43m'\u001b[39;49m\u001b[38;5;124;43mimg\u001b[39;49m\u001b[38;5;124;43m'\u001b[39;49m\u001b[43m,\u001b[49m\u001b[43m \u001b[49m\u001b[43mmouse_click\u001b[49m\u001b[43m)\u001b[49m\n\u001b[0;32m      6\u001b[0m cv2\u001b[38;5;241m.\u001b[39mimshow(\u001b[38;5;124m'\u001b[39m\u001b[38;5;124mWind\u001b[39m\u001b[38;5;124m'\u001b[39m,img)\n\u001b[0;32m      7\u001b[0m cv2\u001b[38;5;241m.\u001b[39mwaitKey(\u001b[38;5;241m0\u001b[39m)\n",
      "\u001b[1;31merror\u001b[0m: OpenCV(4.7.0) D:\\a\\opencv-python\\opencv-python\\opencv\\modules\\highgui\\src\\window_w32.cpp:2558: error: (-27:Null pointer) NULL window: 'img' in function 'cvSetMouseCallback'\n"
     ]
    }
   ],
   "source": [
    "def mouse_click(events,x,y, flag,params):\n",
    "    if events == cv2.EVENT_LBUTTONDOWN:\n",
    "        print(x,y)\n",
    "        \n",
    "cv2.setMouseCallback('img', mouse_click)\n",
    "cv2.imshow('Wind',img)\n",
    "cv2.waitKey(0)"
   ]
  },
  {
   "cell_type": "code",
   "execution_count": null,
   "id": "e34b2549",
   "metadata": {},
   "outputs": [],
   "source": []
  }
 ],
 "metadata": {
  "kernelspec": {
   "display_name": "Python 3 (ipykernel)",
   "language": "python",
   "name": "python3"
  },
  "language_info": {
   "codemirror_mode": {
    "name": "ipython",
    "version": 3
   },
   "file_extension": ".py",
   "mimetype": "text/x-python",
   "name": "python",
   "nbconvert_exporter": "python",
   "pygments_lexer": "ipython3",
   "version": "3.11.2"
  }
 },
 "nbformat": 4,
 "nbformat_minor": 5
}
