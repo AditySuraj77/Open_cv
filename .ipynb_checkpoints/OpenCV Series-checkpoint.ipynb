{
 "cells": [
  {
   "cell_type": "markdown",
   "id": "01dbb106",
   "metadata": {},
   "source": [
    "## Read Image"
   ]
  },
  {
   "cell_type": "code",
   "execution_count": 1,
   "id": "5a52bf96",
   "metadata": {},
   "outputs": [],
   "source": [
    "import cv2\n",
    "import numpy as np"
   ]
  },
  {
   "cell_type": "code",
   "execution_count": 2,
   "id": "96ca5278",
   "metadata": {},
   "outputs": [],
   "source": [
    "img = cv2.imread('image.jpg')"
   ]
  },
  {
   "cell_type": "code",
   "execution_count": 3,
   "id": "43e570e1",
   "metadata": {},
   "outputs": [
    {
     "name": "stdout",
     "output_type": "stream",
     "text": [
      "<class 'numpy.ndarray'>\n"
     ]
    }
   ],
   "source": [
    "print(type(img))"
   ]
  },
  {
   "cell_type": "code",
   "execution_count": 4,
   "id": "f356ebcd",
   "metadata": {},
   "outputs": [
    {
     "name": "stdout",
     "output_type": "stream",
     "text": [
      "(900, 1200, 3)\n"
     ]
    }
   ],
   "source": [
    "print(img.shape)"
   ]
  },
  {
   "cell_type": "code",
   "execution_count": 5,
   "id": "0a905e5d",
   "metadata": {},
   "outputs": [
    {
     "data": {
      "text/plain": [
       "-1"
      ]
     },
     "execution_count": 5,
     "metadata": {},
     "output_type": "execute_result"
    }
   ],
   "source": [
    "cv2.imshow('windows', img)\n",
    "cv2.waitKey(0)"
   ]
  },
  {
   "cell_type": "markdown",
   "id": "19f09327",
   "metadata": {},
   "source": [
    "## Convert RGB image to Grayscale image"
   ]
  },
  {
   "cell_type": "code",
   "execution_count": 8,
   "id": "0a44b8b8",
   "metadata": {},
   "outputs": [],
   "source": [
    "img_gray = cv2.cvtColor(img,cv2.COLOR_BGR2GRAY)"
   ]
  },
  {
   "cell_type": "code",
   "execution_count": 10,
   "id": "55a5a11c",
   "metadata": {},
   "outputs": [
    {
     "data": {
      "text/plain": [
       "-1"
      ]
     },
     "execution_count": 10,
     "metadata": {},
     "output_type": "execute_result"
    }
   ],
   "source": [
    "cv2.imshow('windows', img_gray)\n",
    "cv2.waitKey(0)"
   ]
  },
  {
   "cell_type": "code",
   "execution_count": 11,
   "id": "79140891",
   "metadata": {},
   "outputs": [
    {
     "name": "stdout",
     "output_type": "stream",
     "text": [
      "(900, 1200)\n"
     ]
    }
   ],
   "source": [
    "print(img_gray.shape)"
   ]
  },
  {
   "cell_type": "markdown",
   "id": "d801c9c9",
   "metadata": {},
   "source": [
    "## Playing with RGB Color Channels"
   ]
  },
  {
   "cell_type": "code",
   "execution_count": 28,
   "id": "b88e6dd8",
   "metadata": {},
   "outputs": [],
   "source": [
    "splash_img = cv2.imread('splash.jfif')"
   ]
  },
  {
   "cell_type": "code",
   "execution_count": 29,
   "id": "52d2657e",
   "metadata": {},
   "outputs": [],
   "source": [
    "rgb_blues = splash_img[:,:,0]\n",
    "rgb_green = splash_img[:,:,1]\n",
    "rgb_red = splash_img[:,:,2]"
   ]
  },
  {
   "cell_type": "code",
   "execution_count": 33,
   "id": "bee2da50",
   "metadata": {},
   "outputs": [],
   "source": [
    "combine_image = np.vstack((rgb_blues,rgb_green,rgb_red))"
   ]
  },
  {
   "cell_type": "code",
   "execution_count": 34,
   "id": "27e76664",
   "metadata": {},
   "outputs": [
    {
     "data": {
      "text/plain": [
       "-1"
      ]
     },
     "execution_count": 34,
     "metadata": {},
     "output_type": "execute_result"
    }
   ],
   "source": [
    "cv2.imshow('windows', combine_image)\n",
    "cv2.waitKey(0)"
   ]
  },
  {
   "cell_type": "markdown",
   "id": "20b120c3",
   "metadata": {},
   "source": [
    "## Image Resizing"
   ]
  },
  {
   "cell_type": "code",
   "execution_count": 2,
   "id": "f5758518",
   "metadata": {},
   "outputs": [],
   "source": [
    "load_res_img = cv2.imread('splash.jfif')"
   ]
  },
  {
   "cell_type": "code",
   "execution_count": 3,
   "id": "58233a1f",
   "metadata": {},
   "outputs": [
    {
     "name": "stdout",
     "output_type": "stream",
     "text": [
      "(170, 297, 3)\n"
     ]
    }
   ],
   "source": [
    "print(load_res_img.shape)"
   ]
  },
  {
   "cell_type": "code",
   "execution_count": 5,
   "id": "5c67f597",
   "metadata": {},
   "outputs": [],
   "source": [
    "res_img = cv2.resize(load_res_img,(500,500))"
   ]
  },
  {
   "cell_type": "code",
   "execution_count": 6,
   "id": "17e6faeb",
   "metadata": {},
   "outputs": [
    {
     "data": {
      "text/plain": [
       "-1"
      ]
     },
     "execution_count": 6,
     "metadata": {},
     "output_type": "execute_result"
    }
   ],
   "source": [
    "cv2.imshow('windows', res_img)\n",
    "cv2.waitKey(0)"
   ]
  },
  {
   "cell_type": "code",
   "execution_count": 7,
   "id": "ee6e7bec",
   "metadata": {},
   "outputs": [
    {
     "name": "stdout",
     "output_type": "stream",
     "text": [
      "(500, 500, 3)\n"
     ]
    }
   ],
   "source": [
    "print(res_img.shape)"
   ]
  },
  {
   "cell_type": "markdown",
   "id": "7eb8c753",
   "metadata": {},
   "source": [
    "## Flip Image"
   ]
  },
  {
   "cell_type": "code",
   "execution_count": 16,
   "id": "fbeb4223",
   "metadata": {},
   "outputs": [],
   "source": [
    "flip_img = cv2.imread('trek.jpg')"
   ]
  },
  {
   "cell_type": "code",
   "execution_count": 17,
   "id": "411ebd0a",
   "metadata": {},
   "outputs": [
    {
     "name": "stdout",
     "output_type": "stream",
     "text": [
      "(3939, 5909, 3)\n"
     ]
    }
   ],
   "source": [
    "print(flip_img.shape)"
   ]
  },
  {
   "cell_type": "code",
   "execution_count": 26,
   "id": "c8fcb576",
   "metadata": {},
   "outputs": [],
   "source": [
    "flip_res_img = cv2.resize(flip_img,(700,500))"
   ]
  },
  {
   "cell_type": "code",
   "execution_count": 27,
   "id": "6d3e5f08",
   "metadata": {},
   "outputs": [
    {
     "data": {
      "text/plain": [
       "-1"
      ]
     },
     "execution_count": 27,
     "metadata": {},
     "output_type": "execute_result"
    }
   ],
   "source": [
    "cv2.imshow('windows', flip_res_img)\n",
    "cv2.waitKey(0)"
   ]
  },
  {
   "cell_type": "code",
   "execution_count": 44,
   "id": "f7328d1c",
   "metadata": {},
   "outputs": [],
   "source": [
    "flip_image = cv2.flip(flip_res_img,0)"
   ]
  },
  {
   "cell_type": "code",
   "execution_count": 45,
   "id": "cc9ef373",
   "metadata": {},
   "outputs": [
    {
     "data": {
      "text/plain": [
       "-1"
      ]
     },
     "execution_count": 45,
     "metadata": {},
     "output_type": "execute_result"
    }
   ],
   "source": [
    "cv2.imshow('windows', flip_image)\n",
    "cv2.waitKey(0)"
   ]
  },
  {
   "cell_type": "markdown",
   "id": "bceffdc6",
   "metadata": {},
   "source": [
    "## Cropping an Image"
   ]
  },
  {
   "cell_type": "code",
   "execution_count": 62,
   "id": "6025b9d9",
   "metadata": {},
   "outputs": [],
   "source": [
    "img_crop = flip_res_img[200:500,400:800]"
   ]
  },
  {
   "cell_type": "code",
   "execution_count": 63,
   "id": "c2312da3",
   "metadata": {},
   "outputs": [
    {
     "data": {
      "text/plain": [
       "-1"
      ]
     },
     "execution_count": 63,
     "metadata": {},
     "output_type": "execute_result"
    }
   ],
   "source": [
    "cv2.imshow('windows', img_crop)\n",
    "cv2.waitKey(0)"
   ]
  },
  {
   "cell_type": "markdown",
   "id": "f42b5518",
   "metadata": {},
   "source": [
    "## Saving Image"
   ]
  },
  {
   "cell_type": "code",
   "execution_count": 65,
   "id": "3ecf254a",
   "metadata": {},
   "outputs": [],
   "source": [
    "save_img = cv2.imwrite('trek_crop_img.png',img_crop)"
   ]
  },
  {
   "cell_type": "markdown",
   "id": "c3dd05c8",
   "metadata": {},
   "source": [
    "## Drawing Shapes and Text on Images"
   ]
  },
  {
   "cell_type": "code",
   "execution_count": 2,
   "id": "e21a1730",
   "metadata": {},
   "outputs": [],
   "source": [
    "nw_img = np.zeros((512,512,3))"
   ]
  },
  {
   "cell_type": "code",
   "execution_count": 3,
   "id": "3a047295",
   "metadata": {},
   "outputs": [
    {
     "data": {
      "text/plain": [
       "-1"
      ]
     },
     "execution_count": 3,
     "metadata": {},
     "output_type": "execute_result"
    }
   ],
   "source": [
    "cv2.imshow('windows', nw_img)\n",
    "cv2.waitKey(0)"
   ]
  },
  {
   "cell_type": "markdown",
   "id": "8295c936",
   "metadata": {},
   "source": [
    "#### Rectangle"
   ]
  },
  {
   "cell_type": "code",
   "execution_count": 7,
   "id": "b0189f0b",
   "metadata": {},
   "outputs": [],
   "source": [
    "start_point = (100,100)\n",
    "end_point= (300,300)\n",
    "color=(255,0,0)\n",
    "thickness=3"
   ]
  },
  {
   "cell_type": "code",
   "execution_count": 8,
   "id": "833954e4",
   "metadata": {},
   "outputs": [],
   "source": [
    "rect = cv2.rectangle(nw_img, start_point, end_point, color, thickness)"
   ]
  },
  {
   "cell_type": "code",
   "execution_count": 9,
   "id": "ffadcd91",
   "metadata": {},
   "outputs": [
    {
     "data": {
      "text/plain": [
       "-1"
      ]
     },
     "execution_count": 9,
     "metadata": {},
     "output_type": "execute_result"
    }
   ],
   "source": [
    "cv2.imshow('windows', rect)\n",
    "cv2.waitKey(0)"
   ]
  },
  {
   "cell_type": "markdown",
   "id": "d5bb890c",
   "metadata": {},
   "source": [
    "#### Circle"
   ]
  },
  {
   "cell_type": "code",
   "execution_count": 10,
   "id": "f802b596",
   "metadata": {},
   "outputs": [],
   "source": [
    "center= (100,400)\n",
    "radius = 60\n",
    "color = (0,245,0)\n",
    "thickness = -1"
   ]
  },
  {
   "cell_type": "code",
   "execution_count": 11,
   "id": "a704c7d7",
   "metadata": {},
   "outputs": [],
   "source": [
    "cir = cv2.circle(nw_img,center, radius, color, thickness)"
   ]
  },
  {
   "cell_type": "code",
   "execution_count": 12,
   "id": "bfa5dc5f",
   "metadata": {},
   "outputs": [
    {
     "data": {
      "text/plain": [
       "-1"
      ]
     },
     "execution_count": 12,
     "metadata": {},
     "output_type": "execute_result"
    }
   ],
   "source": [
    "cv2.imshow('windows', cir)\n",
    "cv2.waitKey(0)"
   ]
  },
  {
   "cell_type": "markdown",
   "id": "f069f8f2",
   "metadata": {},
   "source": [
    "#### line"
   ]
  },
  {
   "cell_type": "code",
   "execution_count": 13,
   "id": "3a220ec4",
   "metadata": {},
   "outputs": [],
   "source": [
    "start_point = (0,0)\n",
    "end_point= (300,300)\n",
    "color=(255,0,0)\n",
    "thickness=3"
   ]
  },
  {
   "cell_type": "code",
   "execution_count": 14,
   "id": "4f836f2a",
   "metadata": {},
   "outputs": [],
   "source": [
    "lne = cv2.line(nw_img,start_point,end_point, color,thickness)"
   ]
  },
  {
   "cell_type": "code",
   "execution_count": 15,
   "id": "8a7ed18d",
   "metadata": {},
   "outputs": [
    {
     "data": {
      "text/plain": [
       "-1"
      ]
     },
     "execution_count": 15,
     "metadata": {},
     "output_type": "execute_result"
    }
   ],
   "source": [
    "cv2.imshow('windows', lne)\n",
    "cv2.waitKey(0)"
   ]
  },
  {
   "cell_type": "markdown",
   "id": "a6c5eddd",
   "metadata": {},
   "source": [
    "#### Text "
   ]
  },
  {
   "cell_type": "code",
   "execution_count": 19,
   "id": "054ba130",
   "metadata": {},
   "outputs": [],
   "source": [
    "font = cv2.FONT_HERSHEY_SIMPLEX \n",
    "  \n",
    "# org \n",
    "org = (50, 50) \n",
    "  \n",
    "# fontScale \n",
    "fontScale = 1\n",
    "   \n",
    "# Blue color in BGR \n",
    "color = (25, 0, 0) \n",
    "  \n",
    "# Line thickness of 2 px \n",
    "thickness = 2\n",
    "   "
   ]
  },
  {
   "cell_type": "code",
   "execution_count": 20,
   "id": "5e76ebc6",
   "metadata": {},
   "outputs": [],
   "source": [
    "image = cv2.putText(nw_img, 'OpenCV', org, font,  \n",
    "                   fontScale, color, thickness, cv2.LINE_AA) "
   ]
  },
  {
   "cell_type": "code",
   "execution_count": 21,
   "id": "3f42a05e",
   "metadata": {},
   "outputs": [
    {
     "data": {
      "text/plain": [
       "-1"
      ]
     },
     "execution_count": 21,
     "metadata": {},
     "output_type": "execute_result"
    }
   ],
   "source": [
    "cv2.imshow('windows', image)\n",
    "cv2.waitKey(0)"
   ]
  },
  {
   "cell_type": "markdown",
   "id": "20c92aa3",
   "metadata": {},
   "source": [
    "## Working with OpenCV Events"
   ]
  },
  {
   "cell_type": "code",
   "execution_count": 4,
   "id": "89b77f3e",
   "metadata": {},
   "outputs": [],
   "source": [
    "while True:\n",
    "    \n",
    "    cv2.imshow('window', nw_img)\n",
    "    \n",
    "    if cv2.waitKey(1) & 0xFF == ord('x'):\n",
    "        break\n",
    "cv2.destroyAllWindows()"
   ]
  },
  {
   "cell_type": "code",
   "execution_count": 8,
   "id": "61b90a97",
   "metadata": {},
   "outputs": [],
   "source": [
    "def draw(event,x,y, flags, params):\n",
    "    if event == 1:\n",
    "        cv2.circle(nw_img, center=(x,y), radius=50, color=(55,0,0), thickness=-1)\n",
    "        \n",
    "        \n",
    "\n",
    "cv2.namedWindow(winname='window')\n",
    "cv2.setMouseCallback('window', draw)\n",
    "\n",
    "while True:\n",
    "    \n",
    "    cv2.imshow('window', nw_img)\n",
    "    \n",
    "    if cv2.waitKey(1) & 0xFF == ord('x'):\n",
    "        break\n",
    "cv2.destroyAllWindows()"
   ]
  },
  {
   "cell_type": "markdown",
   "id": "2af386e5",
   "metadata": {},
   "source": [
    "# Working with Videos using OpenCV"
   ]
  },
  {
   "cell_type": "code",
   "execution_count": 7,
   "id": "896c6760",
   "metadata": {},
   "outputs": [],
   "source": [
    "cap = cv2.VideoCapture(0)\n",
    "\n",
    "while True:\n",
    "    ret, frame = cap.read()\n",
    "    \n",
    "    cv2.imshow('window', frame)\n",
    "    \n",
    "    if cv2.waitKey(1) & 0xFF == ord('x'):\n",
    "        break\n",
    "cv2.destroyAllWindows()"
   ]
  },
  {
   "cell_type": "code",
   "execution_count": null,
   "id": "60acad1f",
   "metadata": {},
   "outputs": [],
   "source": []
  }
 ],
 "metadata": {
  "kernelspec": {
   "display_name": "Python 3 (ipykernel)",
   "language": "python",
   "name": "python3"
  },
  "language_info": {
   "codemirror_mode": {
    "name": "ipython",
    "version": 3
   },
   "file_extension": ".py",
   "mimetype": "text/x-python",
   "name": "python",
   "nbconvert_exporter": "python",
   "pygments_lexer": "ipython3",
   "version": "3.11.2"
  }
 },
 "nbformat": 4,
 "nbformat_minor": 5
}
